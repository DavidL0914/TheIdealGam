{
 "cells": [
  {
   "cell_type": "markdown",
   "metadata": {},
   "source": [
    "---\n",
    "toc: false\n",
    "layout: post\n",
    "hide: true\n",
    "title: Calendar \n",
    "description: Overview of how we will develop an interactive calendar.\n",
    "courses: { compsci: {week: 15 } }\n",
    "type: blogs\n",
    "---"
   ]
  },
  {
   "cell_type": "markdown",
   "metadata": {},
   "source": [
    "## Goal\n",
    "- To make a calendar that users can customize and then save using a log in system.\n",
    "\n",
    "# How we will achieve this goal:\n",
    "\n",
    "- David:\n",
    "\n",
    "- Matthew:\n",
    "\n",
    "- Kayden:\n",
    "\n",
    "- Andrew"
   ]
  }
 ],
 "metadata": {
  "language_info": {
   "name": "python"
  },
  "orig_nbformat": 4
 },
 "nbformat": 4,
 "nbformat_minor": 2
}
