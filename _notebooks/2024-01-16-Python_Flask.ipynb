{
 "cells": [
  {
   "cell_type": "markdown",
   "metadata": {},
   "source": [
    "---\n",
    "toc: False\n",
    "layout: post\n",
    "hide: false\n",
    "title: P2 | Python/Flask\n",
    "description: Team Teach On Python/Flask\n",
    "courses: {'compsci': {'week': 15}}\n",
    "type: tangibles\n",
    "---"
   ]
  },
  {
   "cell_type": "markdown",
   "metadata": {},
   "source": [
    "## Placeholder summary of Mort lesson (andrew)\n",
    "# Database and SQLAlchemy:\n",
    "- Use SQLite for data management.\n",
    "- SQLAlchemy facilitates interaction with the database.\n",
    "- Debugging aids in object examination.\n",
    "\n",
    "# Imports and Flask Objects:\n",
    "- Flask app object: The Flask app object represents the core of a Flask web application. It is created using the Flask() constructor and serves as the central point for configuring the application, defining routes, and managing various components.\n",
    "\n",
    "- SQLAlchemy (SQLA) db object: The SQLAlchemy db object is an instance of the SQLAlchemy class, acting as a bridge between a Flask application and the database. It simplifies database interactions by allowing developers to work with Python objects as if they were database entities, providing a high-level interface for tasks like defining models and performing queries.\n",
    "\n",
    "# Model Definition - User Class:\n",
    "Inherit from db.Model.\n",
    "Define columns, initialization, and CRUD methods.\n",
    "Discuss @property, @<column>.setter, and purpose of CRUD methods.\n",
    "\n",
    "# Initial Data:\n",
    "Use db.create_all() for table initialization.\n",
    "Comment on the process.\n",
    "\n",
    "# User Object Constructors:\n",
    "Implement try/except for exception handling.\n",
    "Discuss the purpose of constructors.\n",
    "\n",
    "# Checking for Credentials and ORM Queries:\n",
    "Verify credentials using ORM Query objects.\n",
    "Comment on the purpose of ORM queries.\n",
    "\n",
    "# Creating a New User:\n",
    "Use SQLAlchemy and custom methods for user creation.\n",
    "Comment on the process.\n",
    "\n",
    "# Reading Users Table:\n",
    "Employ SQLAlchemy's query.all for data retrieval.\n",
    "Comment on the purpose and List Comprehension."
   ]
  }
 ],
 "metadata": {
  "kernelspec": {
   "display_name": "Python 3",
   "language": "python",
   "name": "python3"
  },
  "language_info": {
   "codemirror_mode": {
    "name": "ipython",
    "version": 3
   },
   "file_extension": ".py",
   "mimetype": "text/x-python",
   "name": "python",
   "nbconvert_exporter": "python",
   "pygments_lexer": "ipython3",
   "version": "3.11.1"
  },
  "orig_nbformat": 4
 },
 "nbformat": 4,
 "nbformat_minor": 2
}
