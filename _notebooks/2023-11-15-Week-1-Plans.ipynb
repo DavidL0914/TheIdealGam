{
 "cells": [
  {
   "cell_type": "markdown",
   "metadata": {},
   "source": [
    "---\n",
    "toc: true\n",
    "comments: true\n",
    "layout: post\n",
    "title: Week 1 plans\n",
    "description: our plans for week 1 of trimester 2.\n",
    "courses: { csp: {week: 13} }\n",
    "type: blogs\n",
    "---"
   ]
  },
  {
   "cell_type": "markdown",
   "metadata": {},
   "source": [
    "# Monday pick team of 4.  \n",
    "- Setup your GitHub Pages, every project should be working from NightHawk Pages theme.  This will be frontend project and we will be learning SASS.\n",
    "Tri 2 seed awards… \n",
    "\n",
    "- Plan features in Teams need to be assigned 2 by 2.  All live review discussions will be in Teams of 4, but features will be discussed in pairs (Innovation, Design, Feature Dev, Integration, Testing, Final).\n",
    "- Assignment of next round of Student Teaching. A couple of topics for PBL might be included, depending on need.  Eyes, Nose, Finger, Toes, (you are the Pulse, Body of the class builds content for everyone).\n",
    "# Tuesday Tech Talk,   \n",
    "- GitHub Page and SASS overview, Binary Logic requirements overview\n",
    "# Thursday/Friday Q&A,\n",
    "- Binary Feature Discussion table by table.   At this point there should be Innovation and Design."
   ]
  }
 ],
 "metadata": {
  "language_info": {
   "name": "python"
  },
  "orig_nbformat": 4
 },
 "nbformat": 4,
 "nbformat_minor": 2
}
