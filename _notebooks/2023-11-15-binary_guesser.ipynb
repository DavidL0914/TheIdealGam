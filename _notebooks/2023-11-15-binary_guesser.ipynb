{
 "cells": [
  {
   "cell_type": "markdown",
   "metadata": {},
   "source": [
    "---\n",
    "toc: false\n",
    "layout: post\n",
    "hide: true\n",
    "title: Binary Gam(e) | Binary Guesser\n",
    "description: Overview of how we will develop a binary guesser game using Binary to reinforce binary memorization.\n",
    "courses: { compsci: {week: 15 } }\n",
    "type: blogs\n",
    "---"
   ]
  },
  {
   "cell_type": "markdown",
   "metadata": {},
   "source": [
    "{% include nav.html %}\n"
   ]
  },
  {
   "cell_type": "markdown",
   "metadata": {},
   "source": [
    "#### In this game the player will guess the specific binary code."
   ]
  },
  {
   "cell_type": "markdown",
   "metadata": {},
   "source": [
    "- The player must guess the specific binary code and which is the correct one.\n",
    "- It will be similar to a test of knowledge of binary.\n",
    "- The player will be given code\n"
   ]
  },
  {
   "cell_type": "markdown",
   "metadata": {},
   "source": [
    "#### The user will be able to:\n",
    "\n",
    "- Pick on the image of code and guess if it is correct or not\n",
    "- If the user picks the correct code they will be given a point\n",
    "- If the user picks the incorrect code their points will be reduced"
   ]
  },
  {
   "cell_type": "markdown",
   "metadata": {},
   "source": [
    "#### This will:\n",
    "\n",
    "- Test the players knowledge on binary code"
   ]
  },
  {
   "cell_type": "markdown",
   "metadata": {},
   "source": [
    "#### How will we accompish this?\n",
    "\n",
    "- Ask questions that will slowly get difficult"
   ]
  },
  {
   "cell_type": "markdown",
   "metadata": {},
   "source": [
    "#### What will we use?\n",
    "- JavaScript, HTML, CSS\n",
    "- List operations\n",
    "- Variables"
   ]
  },
  {
   "cell_type": "raw",
   "metadata": {},
   "source": [
    "+---------------------+\n",
    "|    Start Program    |\n",
    "+---------------------+\n",
    "           |\n",
    "           v\n",
    "+---------------------+\n",
    "|   Initialize score  |\n",
    "|        to 0         |\n",
    "+---------------------+\n",
    "           |\n",
    "           v\n",
    "+---------------------+\n",
    "|   Generate random   |\n",
    "|   number (0 to 255) |\n",
    "+---------------------+\n",
    "           |\n",
    "           v\n",
    "+---------------------+\n",
    "| Convert number to   |\n",
    "| binary representation|\n",
    "+---------------------+\n",
    "           |\n",
    "           v\n",
    "+---------------------+\n",
    "|     Display        |\n",
    "|   binary number     |\n",
    "+---------------------+\n",
    "           |\n",
    "           v\n",
    "+---------------------+\n",
    "|    Ask user for     |\n",
    "|   binary input      |\n",
    "+---------------------+\n",
    "           |\n",
    "           v\n",
    "+---------------------+\n",
    "|  Compare user input |\n",
    "|  with generated binary|\n",
    "|    representation   |\n",
    "+---------------------+\n",
    "           |\n",
    "           v\n",
    "+---------------------+\n",
    "| If correct,         |\n",
    "|   award a point     |\n",
    "|   to the user       |\n",
    "+---------------------+\n",
    "           |\n",
    "           v\n",
    "+---------------------+\n",
    "| If incorrect,       |\n",
    "|   remove a point     |\n",
    "|   from the score    |\n",
    "+---------------------+\n",
    "           |\n",
    "           v\n",
    "+---------------------+\n",
    "|   Ask user if they  |\n",
    "|   want to continue  |\n",
    "|   or end the game   |\n",
    "+---------------------+\n",
    "           |\n",
    "           v\n",
    "+---------------------+\n",
    "|   If user chooses   |\n",
    "|   to end, break     |\n",
    "|   the while loop    |\n",
    "+---------------------+\n",
    "           |\n",
    "           v\n",
    "+---------------------+\n",
    "| Display final score |\n",
    "+---------------------+\n",
    "           |\n",
    "           v\n",
    "+---------------------+\n",
    "|    End Program      |\n",
    "+---------------------+\n"
   ]
  }
 ],
 "metadata": {
  "language_info": {
   "name": "python"
  },
  "orig_nbformat": 4
 },
 "nbformat": 4,
 "nbformat_minor": 2
}
