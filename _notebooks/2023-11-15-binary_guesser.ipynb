{
 "cells": [
  {
   "cell_type": "markdown",
   "metadata": {},
   "source": [
    "---\n",
    "toc: false\n",
    "layout: post\n",
    "hide: true\n",
    "title: Binary Gam(e) | Binary Guesser\n",
    "description: Overview of how we will develop a binary guesser game using Binary to reinforce binary memorization.\n",
    "courses: { compsci: {week: 15 } }\n",
    "type: blogs\n",
    "---"
   ]
  },
  {
   "cell_type": "markdown",
   "metadata": {},
   "source": [
    "{% include nav.html %}\n"
   ]
  },
  {
   "cell_type": "markdown",
   "metadata": {},
   "source": [
    "#### In this game the player will guess the specific binary code."
   ]
  },
  {
   "cell_type": "markdown",
   "metadata": {},
   "source": [
    "- The player must guess the specific binary code and which is the correct one.\n",
    "- It will be similar to a test of knowledge of binary.\n",
    "- The player will be given code\n"
   ]
  },
  {
   "cell_type": "markdown",
   "metadata": {},
   "source": [
    "#### The user will be able to:\n",
    "\n",
    "- Pick on the image of code and guess if it is correct or not\n",
    "- If the user picks the correct code they will be given a point\n",
    "- If the user picks the incorrect code their points will be reduced"
   ]
  },
  {
   "cell_type": "markdown",
   "metadata": {},
   "source": [
    "#### This will:\n",
    "\n",
    "- Test the players knowledge on binary code"
   ]
  },
  {
   "cell_type": "markdown",
   "metadata": {},
   "source": [
    "#### How will we accompish this?\n",
    "\n",
    "- Ask questions that will slowly get difficult"
   ]
  },
  {
   "cell_type": "markdown",
   "metadata": {},
   "source": [
    "#### What will we use?\n",
    "- JavaScript, HTML, CSS\n",
    "- List operations\n",
    "- Variables"
   ]
  },
  {
   "cell_type": "markdown",
   "metadata": {},
   "source": [
    "![Screenshot 2023-11-27 at 10.16.49 AM.png](https://files.catbox.moe/w4z4m8.png)"
   ]
  }
 ],
 "metadata": {
  "language_info": {
   "name": "python"
  },
  "orig_nbformat": 4
 },
 "nbformat": 4,
 "nbformat_minor": 2
}
