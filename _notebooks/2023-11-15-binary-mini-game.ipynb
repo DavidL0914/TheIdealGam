{
 "cells": [
  {
   "cell_type": "markdown",
   "metadata": {},
   "source": [
    "---\n",
    "toc: false\n",
    "layout: post\n",
    "hide: true\n",
    "title: Binary Gam(e) | Binary RPG\n",
    "description: Overview of how we will develop a binary RPG game using Binary to reinforce binary memorization.\n",
    "courses: { compsci: {week: 15 } }\n",
    "type: blogs\n",
    "---\n"
   ]
  },
  {
   "cell_type": "markdown",
   "metadata": {},
   "source": [
    "{% include nav.html %}\n"
   ]
  },
  {
   "cell_type": "markdown",
   "metadata": {},
   "source": [
    "**In this game the player will be forced to memorize the binary alphabet in order to solve quests and receive awards**\n",
    "- Players must embark on quests and use the binary form of words to fight monsters and complete tasks.\n",
    "- Players will be given a certain number of turns to complete a task. \n",
    "- Different regions can be unlocked which can provide access to harder words as well as powerups that allow you to skip certain words to receive assitance. \n",
    "\n",
    "The user must turn the starting binary into a word which can be found on their screen in the number of actions.\n",
    "\n",
    "**The user will be able to:**\n",
    "- Type out certain sections of binary\n",
    "- If the binary is incorrect, it will show which values are incorrect and return which values are correct. \n",
    "- The user will be able to complete tasks based on this idea. \n",
    "\n",
    "**This will:**\n",
    "- Challenge the user to really think about binary, and how the binary alphabet works\n",
    "\n",
    "**How will we accomplish this?**\n",
    "- Provide tasks that gradually become more difficult. I.E if there is a wall, the player must type out wall in binary in order to scale the wall\n",
    "- Algorithm that compares the given value to the actual value. \n",
    "- Take the numbers that display the wrong values using list operations.\n",
    "\n",
    "**What will we use?**\n",
    "- JavaScript, HTML & a bit of CSS\n",
    "- List operations\n",
    "- Use variable/set to keep track of already checked combinations\n",
    "![img](https://i.ibb.co/fC0dzDV/Screenshot-2023-11-16-at-9-53-23-AM.png)\n",
    "\n",
    "![img](https://i.ibb.co/J3mNHPZ/Screenshot-2023-11-15-at-11-51-01-PM.png)"
   ]
  },
  {
   "cell_type": "code",
   "execution_count": 33,
   "metadata": {
    "vscode": {
     "languageId": "javascript"
    }
   },
   "outputs": [
    {
     "ename": "SyntaxError",
     "evalue": "invalid syntax (940506772.py, line 1)",
     "output_type": "error",
     "traceback": [
      "\u001b[0;36m  Cell \u001b[0;32mIn[33], line 1\u001b[0;36m\u001b[0m\n\u001b[0;31m    function getRandomWord() {\u001b[0m\n\u001b[0m             ^\u001b[0m\n\u001b[0;31mSyntaxError\u001b[0m\u001b[0;31m:\u001b[0m invalid syntax\n"
     ]
    }
   ],
   "source": [
    "function getRandomWord() {\n",
    "    const words = [\"apple\", \"banana\", \"chocolate\", \"developer\", \"elephant\", \"fantastic\"];\n",
    "    const randomIndex = Math.floor(Math.random() * words.length);\n",
    "    return words[randomIndex];\n",
    "  }\n",
    "  \n",
    "  function wordToBinary(word) {\n",
    "    return Array.from(word).map(char => char.charCodeAt(0).toString(2)).join(' ');\n",
    "  }\n",
    "  \n",
    "  function playBinaryWordGuessingGame() {\n",
    "    const secretWord = getRandomWord();\n",
    "    const binaryRepresentation = wordToBinary(secretWord);\n",
    "    const wordLength = secretWord.length;\n",
    "    let attempts = 0;\n",
    "  \n",
    "    alert(\"Welcome to the Binary Word Guessing Game!\");\n",
    "    alert(`Try to guess the binary representation of the word: ${secretWord}`);\n",
    "  \n",
    "    function makeGuess() {\n",
    "      const playerGuess = prompt(\"Enter your binary word guess:\");\n",
    "  \n",
    "      if (playerGuess !== binaryRepresentation) {\n",
    "        alert(`Incorrect guess. The correct binary representation is: ${binaryRepresentation}`);\n",
    "        attempts++;\n",
    "        makeGuess();\n",
    "      } else {\n",
    "        alert(`Congratulations! You guessed the correct binary representation \"${binaryRepresentation}\" of the word \"${secretWord}\" in ${attempts} attempts.`);\n",
    "        askToPlayAgain();\n",
    "      }\n",
    "    }\n",
    "  \n",
    "    function askToPlayAgain() {\n",
    "      const playAgain = confirm(\"Do you want to play again?\");\n",
    "      if (playAgain) {\n",
    "        playBinaryWordGuessingGame();\n",
    "      } else {\n",
    "        alert(\"Thanks for playing! Goodbye.\");\n",
    "      }\n",
    "    }\n",
    "  \n",
    "    makeGuess();\n",
    "  }\n",
    " \n",
    "playBinaryWordGuessingGame();"
   ]
  },
  {
   "cell_type": "code",
   "execution_count": 34,
   "metadata": {
    "vscode": {
     "languageId": "html"
    }
   },
   "outputs": [
    {
     "ename": "SyntaxError",
     "evalue": "invalid syntax (954929544.py, line 1)",
     "output_type": "error",
     "traceback": [
      "\u001b[0;36m  Cell \u001b[0;32mIn[34], line 1\u001b[0;36m\u001b[0m\n\u001b[0;31m    <script async src=\"//jsfiddle.net/aktrooper/vxpj5b62/embed/\"></script>\u001b[0m\n\u001b[0m    ^\u001b[0m\n\u001b[0;31mSyntaxError\u001b[0m\u001b[0;31m:\u001b[0m invalid syntax\n"
     ]
    }
   ],
   "source": [
    "<script async src=\"//jsfiddle.net/aktrooper/vxpj5b62/embed/\"></script>"
   ]
  }
 ],
 "metadata": {
  "kernelspec": {
   "display_name": "Python 3",
   "language": "python",
   "name": "python3"
  },
  "language_info": {
   "codemirror_mode": {
    "name": "ipython",
    "version": 3
   },
   "file_extension": ".py",
   "mimetype": "text/x-python",
   "name": "python",
   "nbconvert_exporter": "python",
   "pygments_lexer": "ipython3",
   "version": "3.11.4"
  },
  "orig_nbformat": 4
 },
 "nbformat": 4,
 "nbformat_minor": 2
}
