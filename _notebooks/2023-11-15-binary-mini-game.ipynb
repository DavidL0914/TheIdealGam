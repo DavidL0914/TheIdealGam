{
 "cells": [
  {
   "cell_type": "markdown",
   "metadata": {},
   "source": [
    "---\n",
    "toc: false\n",
    "layout: post\n",
    "hide: true\n",
    "title: Binary Gam(e) | Binary Word guesser\n",
    "description: Overview of how we will develop explain text to binary conversions.\n",
    "courses: { compsci: {week: 15 } }\n",
    "type: blogs\n",
    "---\n"
   ]
  },
  {
   "cell_type": "markdown",
   "metadata": {},
   "source": [
    "{% include nav.html %}\n"
   ]
  },
  {
   "cell_type": "markdown",
   "metadata": {},
   "source": [
    "**In this game the player will learn how text is converted into binary**\n",
    "- Students will go through the steps of text to binary conversions in order to better learn and understand how computers read text.\n",
    "- Once they are done, they can play a guessing game in which they are given words to translate to binary.\n",
    "\n",
    "\n",
    "**The user will be able to:**\n",
    "- Type out certain sections of binary\n",
    "- The user will be able to complete tasks based on this idea. \n",
    "\n",
    "**This will:**\n",
    "- Challenge the user to really think about binary, and how the binary alphabet works\n",
    "\n",
    "**How will we accomplish this?**\n",
    "- go through hexadecimal and ascii converters in order to show the transition.\n",
    "\n",
    "**What will we use?**\n",
    "- JavaScript, HTML & a bit of CSS\n",
    "- List operations\n",
    "- Use variable/set to keep track of already checked combinations\n",
    "![img](https://i.ibb.co/fC0dzDV/Screenshot-2023-11-16-at-9-53-23-AM.png)\n",
    "\n",
    "![img](https://i.ibb.co/J3mNHPZ/Screenshot-2023-11-15-at-11-51-01-PM.png)\n",
    "\n",
    "![img](https://www.w3resource.com/w3r_images/python-basic-image-exercise-86.png)\n",
    "\n"
   ]
  }
 ],
 "metadata": {
  "kernelspec": {
   "display_name": "Python 3",
   "language": "python",
   "name": "python3"
  },
  "language_info": {
   "codemirror_mode": {
    "name": "ipython",
    "version": 3
   },
   "file_extension": ".py",
   "mimetype": "text/x-python",
   "name": "python",
   "nbconvert_exporter": "python",
   "pygments_lexer": "ipython3",
   "version": "3.11.4"
  },
  "orig_nbformat": 4
 },
 "nbformat": 4,
 "nbformat_minor": 2
}
