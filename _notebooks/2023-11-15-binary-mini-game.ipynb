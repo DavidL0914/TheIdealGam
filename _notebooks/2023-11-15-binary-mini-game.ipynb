{
 "cells": [
  {
   "cell_type": "markdown",
   "metadata": {},
   "source": [
    "---\n",
    "toc: false\n",
    "layout: post\n",
    "hide: true\n",
    "title: Binary Gam(e) | Binary RPG\n",
    "description: Overview of how we will develop a binary RPG game using Binary to reinforce binary memorization.\n",
    "courses: { compsci: {week: 15 } }\n",
    "type: blogs\n",
    "---\n"
   ]
  },
  {
   "cell_type": "markdown",
   "metadata": {},
   "source": [
    "{% include nav.html %}\n"
   ]
  },
  {
   "cell_type": "markdown",
   "metadata": {},
   "source": [
    "**In this game the player will be forced to memorize the binary alphabet in order to solve quests and receive awards**\n",
    "- Players must embark on quests and use the binary form of words to fight monsters and complete tasks.\n",
    "- Players will be given a certain number of turns to complete a task. \n",
    "- Different regions can be unlocked which can provide access to harder words as well as powerups that allow you to skip certain words to receive assitance. \n",
    "\n",
    "The user must turn the starting binary into a word which can be found on their screen in the number of actions.\n",
    "\n",
    "**The user will be able to:**\n",
    "- Type out certain sections of binary\n",
    "- If the binary is incorrect, it will show which values are incorrect and return which values are correct. \n",
    "- The user will be able to complete tasks based on this idea. \n",
    "\n",
    "**This will:**\n",
    "- Challenge the user to really think about binary, and how the binary alphabet works\n",
    "\n",
    "**How will we accomplish this?**\n",
    "- Provide tasks that gradually become more difficult. I.E if there is a wall, the player must type out wall in binary in order to scale the wall\n",
    "- Algorithm that compares the given value to the actual value. \n",
    "- Take the numbers that display the wrong values using list operations.\n",
    "\n",
    "**What will we use?**\n",
    "- JavaScript, HTML & a bit of CSS\n",
    "- List operations\n",
    "- Use variable/set to keep track of already checked combinations\n",
    "![img](https://i.ibb.co/fC0dzDV/Screenshot-2023-11-16-at-9-53-23-AM.png)\n",
    "\n",
    "![img](https://i.ibb.co/J3mNHPZ/Screenshot-2023-11-15-at-11-51-01-PM.png)"
   ]
  },
  {
   "cell_type": "code",
   "execution_count": null,
   "metadata": {
    "vscode": {
     "languageId": "javascript"
    }
   },
   "outputs": [],
   "source": [
    "function compareBinary(int,string) {\n",
    "const userInput= string;\n",
    "const userNum= parseInt(userInput);\n",
    "\n",
    "if(userNum==int){\n",
    "    return \"Well done\";\n",
    "}\n",
    "else{\n",
    "    return \"wah wah\"\n",
    "}\n",
    "}\n"
   ]
  }
 ],
 "metadata": {
  "language_info": {
   "name": "python"
  },
  "orig_nbformat": 4
 },
 "nbformat": 4,
 "nbformat_minor": 2
}
