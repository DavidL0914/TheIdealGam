{
 "cells": [
  {
   "cell_type": "markdown",
   "metadata": {},
   "source": [
    "---\n",
    "toc: false\n",
    "layout: post\n",
    "hide: true\n",
    "title: Binary Gam(e) | Puzzle\n",
    "description: Overview of how we will develop a puzzle game\n",
    "courses: { compsci: {week: 15 } }\n",
    "type: hacks\n",
    "---\n"
   ]
  },
  {
   "cell_type": "markdown",
   "metadata": {},
   "source": [
    "{% include nav.html %}\n"
   ]
  },
  {
   "cell_type": "markdown",
   "metadata": {},
   "source": [
    "**In one of our games to help our users learn Binary, we will give the user a:**\n",
    "- Starting Number in Binary\n",
    "- Wanted Final Number in Decimal\n",
    "- Number of Actions\n",
    "\n",
    "The user must turn the starting number into their given final number in the number of actions, which will be the minimum number of actions needed to transform the number.\n",
    "\n",
    "**The user will be able to:**\n",
    "- Swap each individual number's value back and forth from 0 and 1\n",
    "- Shift left and right to accomplish what would have been multiple value swaps into 1 action\n",
    "\n",
    "**This will:**\n",
    "- Challenge the user to really think about binary, and how the numbers work\n",
    "\n",
    "**How will we accomplish this?**\n",
    "- Generate 2 random numbers\n",
    "- Switch UI\n",
    "- Algorithm that simulates various combinations of how to transform 1 number into another\n",
    "- Take the least number of actions and return it, displaying it on the site\n",
    "\n",
    "**What will we use?**\n",
    "- JavaScript & HTML (required, no python!!!)\n",
    "- Use variable/set to keep track of already checked combinations"
   ]
  },
  {
   "cell_type": "code",
   "execution_count": null,
   "metadata": {},
   "outputs": [],
   "source": [
    "%%javascript\n",
    "function minActions(start, end) {\n",
    "    const queue = [{current: start, actions: []}]; \n",
    "    const checked = new Set([start]); //used to ensure no dupes\n",
    "\n",
    "    while (queue.length > 0) {\n",
    "      const {current, actions} = queue.shift(); //replaces the leftmost item from the queue (item 0)\n",
    "\n",
    "      if (current === end) { //checks if current number is equal to end value\n",
    "        return actions;\n",
    "      }\n",
    "}\n",
    "//remainder of code to find minimum\n",
    "}\n",
    "min = minActions(num1, num2) //nums will be randomly generated to fit within 8 bits of binary\n",
    "console.log(min)\n",
    "//or\n",
    "document.getElementById(\"display\").innerHTMl = min\n",
    "//HTML display for player input including shifting and swapping (similar to lightbulb demo, but different themeing)"
   ]
  },
  {
   "cell_type": "markdown",
   "metadata": {},
   "source": [
    "![image](https://i.ibb.co/7vsY9bb/flowchatcsp.png)"
   ]
  }
 ],
 "metadata": {
  "kernelspec": {
   "display_name": "Python 3 (ipykernel)",
   "language": "python",
   "name": "python3"
  },
  "language_info": {
   "codemirror_mode": {
    "name": "ipython",
    "version": 3
   },
   "file_extension": ".py",
   "mimetype": "text/x-python",
   "name": "python",
   "nbconvert_exporter": "python",
   "pygments_lexer": "ipython3",
   "version": "3.9.12"
  },
  "orig_nbformat": 4
 },
 "nbformat": 4,
 "nbformat_minor": 2
}
