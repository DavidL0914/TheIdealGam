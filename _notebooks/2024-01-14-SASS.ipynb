{
 "cells": [
  {
   "cell_type": "markdown",
   "metadata": {},
   "source": [
    "---\n",
    "toc: False\n",
    "layout: post\n",
    "hide: false\n",
    "title: P2 | SASS\n",
    "description: Team Teach On SASS\n",
    "courses: {'compsci': {'week': 15}}\n",
    "type: tangibles\n",
    "---"
   ]
  },
  {
   "cell_type": "markdown",
   "metadata": {},
   "source": [
    "# Introduction to Basic SASS\n",
    "\n",
    "## What is SASS?\n",
    "* A preprocessor language that’s interpreted into CSS\n",
    "    * Takes input data and converts it to an output that’s used as input by another program.\n",
    "    * Basically converting your code to CSS to be run by browser\n",
    "\n",
    "## SCSS vs CSS\n",
    "* CSS changes the style of your webpage\n",
    "    * CSS can be really annoying to use as it lacks features\n",
    "    * Ex: Layout inconsistency across phones and webpages; lacking nesting (where objects contain other similar objects); creating responsive designs that adapt to different screen sizes; and more\n",
    "* SCSS is basically a CSS version on crack. So like much better\n",
    "    * SCSS just has more features that makes things more convenient\n",
    "* CSS better for simple styling in small projects with little customization\n",
    "* SCSS better for complex styling and working in projects with multiple pages with lots of customization\n",
    "\n",
    "## SASS benefits\n",
    "* Nesting Capabilities: A way of writing CSS styles that mimics the structure of your HTML. Instead of writing separate selectors, you can nest them inside each other.\n",
    "    * In the example below: In the nested example, the p selector is inside the .container selector. This can make your styles more readable and mirrors the HTML structure. Just be mindful not to over-nest, as it may lead to overly specific and harder-to-maintain styles."
   ]
  },
  {
   "cell_type": "code",
   "execution_count": null,
   "metadata": {
    "vscode": {
     "languageId": "plaintext"
    }
   },
   "outputs": [],
   "source": [
    "CSS:\n",
    ".container {\n",
    "  width: 100%;\n",
    "}\n",
    "\n",
    ".container p {\n",
    "  color: #333;\n",
    "}\n",
    "\n",
    "\n",
    "SCSS:\n",
    ".container {\n",
    "  width: 100%;\n",
    "\n",
    "  p {\n",
    "    color: #333;\n",
    "  }\n",
    "}"
   ]
  },
  {
   "cell_type": "markdown",
   "metadata": {},
   "source": [
    "* Modular Approach: Split CSS into partial files, enhancing project organization.\n",
    "* Use of Variables: Easily update and maintain consistency with defined variables.\n",
    "    * Ex: in CSS to make something blue you'd have to constantly write \"color: #0000FF\". In SCSS you can define \"$blue: #0000FF\", and then for the rest of the code just write \"color: $blue\" to make something blue\n",
    "* Mixins for Reusable Code: Create reusable code pieces for elements like buttons and forms.\n",
    "* Extend/Inheritance: Share CSS properties between selectors, reducing code redundancy.\n",
    "* Control Directives: Use if/else statements and for/each loops in CSS.\n",
    "* Built-in Functions: Functions for color manipulation, mathematics, and more.\n",
    "* Compatibility: Automatically handles browser prefixing for cross-browser support.\n",
    "\n",
    "## Modular SCSS\n",
    "* Organizing your CSS code into smaller pieces\n",
    "    * better readability, reusability, and maintenance\n",
    "* Each piece (module) focuses on a specific part\n",
    "    * easier to work with, collaborate, and update. \n",
    "* Think of it like having separate folders for different types of styles, so your code is more organized and manageable.\n",
    "* To use it: Add _ before the filenames (e.g., _filename.scss) to create partials. Import partials into the main SCSS file without the _."
   ]
  },
  {
   "cell_type": "code",
   "execution_count": null,
   "metadata": {
    "vscode": {
     "languageId": "plaintext"
    }
   },
   "outputs": [],
   "source": [
    "// _header.scss\n",
    ".header {\n",
    "  // Styles for header component\n",
    "}\n",
    "\n",
    "// _footer.scss\n",
    ".footer {\n",
    "  // Styles for footer component\n",
    "}\n",
    "\n",
    "// main.scss\n",
    "@import 'header'; // No need for the underscore\n",
    "@import 'footer';\n",
    "\n",
    "// Styles for other components in the main file"
   ]
  },
  {
   "cell_type": "markdown",
   "metadata": {},
   "source": [
    "## Advanced SASS\n",
    "\n",
    "# Operators:\n",
    "- Developers use operators to perform dynamic calculations within stylesheets. For example, they can use mathematical operators (+, -, *, /) to dynamically adjust sizes, positions, or other style properties based on certain conditions or user interactions.\n",
    "\n",
    "# Conditional Statements:\n",
    "- Conditional statements like @if, @else, and @else if allow developers to apply different styles based on conditions. This is crucial for creating interactive interfaces where styles change dynamically in response to user actions or application state.\n",
    "\n",
    "# Loops:\n",
    "- Loops, such as @for and @each, enable developers to iterate through lists of values or apply styles multiple times. This is useful for creating repetitive elements in a dynamic way or for handling dynamic data structures.\n",
    "\n",
    "# Functions:\n",
    "- Functions in SASS enable developers to encapsulate complex logic and calculations. This is valuable for creating dynamic styles that respond to various inputs or conditions. For instance, developers can use functions to calculate and set styles based on user preferences or device characteristics.\n",
    "\n",
    "# Built-in Functions:\n",
    "- Developers leverage built-in functions for math, color manipulation, and string manipulation to dynamically generate styles. This can be especially useful in creating color schemes, responsive layouts, and other interactive design elements.\n",
    "\n",
    "# Extending & Inheritance:\n",
    "- Extending styles with @extend allows developers to share common styles among selectors, reducing redundancy. This is beneficial for creating consistent and easily maintainable styles. In interactive designs, maintaining consistency becomes crucial as styles may change dynamically."
   ]
  }
 ],
 "metadata": {
  "language_info": {
   "name": "python"
  },
  "orig_nbformat": 4
 },
 "nbformat": 4,
 "nbformat_minor": 2
}
