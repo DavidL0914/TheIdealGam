---
toc: False
layout: post
hide: False
title: P2 | 5.6 - Safe Computing
description: Team Teach On Safe Computing
courses: {'compsci': {'week': 14}}
type: tangibles
---

### PII tracking
Personally Identifiable Information (PII): Info specific to an individual. This includes:
* Social Security Number
* Age
* Phone number
* Date of birth
* Bio Metric data like fingerprints


PII can be used by others to steal people's identity. 
* Get into people's bank funds
* Gain access to an organization

Be careful with where you share your PII!
* Search engines maintain a history of everything you search
    * Lets them suggest other websites or to target certain people with marketing
* Many networks, devices, and websites can even collect your location
* This data is stored permanently!

What you can do to help protect your PII:
* Adjust your privacy settings to opt out of data collection if possible
* Make sure your websites have HTTPS so the connections are secure
* Avoid sharing sensitive information through emails
* Use strong passwords
* Use VPNs

Good things about PII:
* PII can enhance your online experience (shopping on Amazon - when you buy things it remembers your address so you don't need to retype it everytime)

Let's see how your easily your PII spreads and how easily it's utilized by others without you even knowing:
1. You're planning a secret trip to Fiji so you buy tickets online
2. Google knows you're going on a trip to Fiji and knows you through your email address and also knows your IP Address
3. The travel site knows you want to go to Fiji, when you're going, and who's going with you
4. Advertising firms also track you through cookies when you go onto the travel site and follow your movements across the web
    * If you start searching for good places to snorkel in Fiji, you will start getting hit with snorkeling ads
5. Federal Government knows if you're traveling to ensure you're not on a terror watch list
6. Google Maps tracks you so Google knows where you are
7. When you enter a shopping mall they track your wifi to see which shopping stores you enter
8. Stores with cameras also will get pictures of you and store your face and can even track how long you spend in each aisle

IMAGE!

### Popcorn Hack #1
What measures can individuals take to better protect their PII in an increasingly interconnected digital world?

### Homework!
Fill out this google form: https://forms.gle/jxVPgKMxEiDhUyMf8
