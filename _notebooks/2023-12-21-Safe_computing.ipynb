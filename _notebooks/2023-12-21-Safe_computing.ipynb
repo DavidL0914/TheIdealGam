{
 "cells": [
  {
   "cell_type": "markdown",
   "metadata": {},
   "source": [
    "---\n",
    "toc: False\n",
    "layout: post\n",
    "hide: False\n",
    "title: P2 | 5.6 - Safe Computing\n",
    "description: Team Teach On Safe Computing\n",
    "courses: {'compsci': {'week': 14}}\n",
    "type: tangibles\n",
    "---"
   ]
  },
  {
   "cell_type": "markdown",
   "metadata": {},
   "source": [
    "## PII tracking\n",
    "Personally Identifiable Information (PII): Info specific to an individual. This includes:\n",
    "* Social Security Number\n",
    "* Age\n",
    "* Phone number\n",
    "* Date of birth\n",
    "* Bio Metric data like fingerprints\n",
    "\n",
    "\n",
    "PII can be used by others to steal people's identity. \n",
    "* Get into people's bank funds\n",
    "* Gain access to an organization\n",
    "\n",
    "Be careful with where you share your PII!\n",
    "* Search engines maintain a history of everything you search\n",
    "    * Lets them suggest other websites or to target certain people with marketing\n",
    "* Many networks, devices, and websites can even collect your location\n",
    "* This data is stored permanently!\n",
    "\n",
    "What you can do to help protect your PII:\n",
    "* Adjust your privacy settings to opt out of data collection if possible\n",
    "* Make sure your websites have HTTPS so the connections are secure\n",
    "* Avoid sharing sensitive information through emails\n",
    "* Use strong passwords\n",
    "* Use VPNs\n",
    "\n",
    "Good things about PII:\n",
    "* PII can enhance your online experience (shopping on Amazon - when you buy things it remembers your address so you don't need to retype it everytime)\n",
    "\n",
    "Let's see how your easily your PII spreads and how easily it's utilized by others without you even knowing:\n",
    "1. You're planning a secret trip to Fiji so you buy tickets online\n",
    "2. Google knows you're going on a trip to Fiji and knows you through your email address and also knows your IP Address\n",
    "3. The travel site knows you want to go to Fiji, when you're going, and who's going with you\n",
    "4. Advertising firms also track you through cookies when you go onto the travel site and follow your movements across the web\n",
    "    * If you start searching for good places to snorkel in Fiji, you will start getting hit with snorkeling ads\n",
    "5. Federal Government knows if you're traveling to ensure you're not on a terror watch list\n",
    "6. Google Maps tracks you so Google knows where you are\n",
    "7. When you enter a shopping mall they track your wifi to see which shopping stores you enter\n",
    "8. Stores with cameras also will get pictures of you and store your face and can even track how long you spend in each aisle\n",
    "\n",
    "![Image](https://files.catbox.moe/x9mj0d.png)"
   ]
  },
  {
   "cell_type": "markdown",
   "metadata": {},
   "source": [
    "### Popcorn Hack #1\n",
    "What measures can individuals take to better protect their PII in an increasingly interconnected digital world?"
   ]
  },
  {
   "cell_type": "markdown",
   "metadata": {},
   "source": [
    "## Risks to personal safety\n",
    "#### Phising Schemes\n",
    "An attempt to trick a user ihnto providing personal information,like your usernames and passwords, account numbers, or social numbers.\n",
    "\n",
    "**Phishing emails often look like they're from a company you know and trust:**\n",
    "* Your bank\n",
    "* Your credit card company\n",
    "* Social networking site\n",
    "* Video streaming service\n",
    "* Online store\n",
    "\n",
    "They trick you in clicking a link or opening an attachment\n",
    "\n",
    "Clicking a link or opening an attachment in a phising email will cause enexpected harm leading to:\n",
    "* Viruses installed on your computer\n",
    "* Spoofed banking website\n",
    "* Keylogger installed\n",
    "\n",
    "**Keylogger:**\n",
    "Records every keystroke made by a user in ordcer to gain fradulent access to passwords or other confidential information\n",
    "\n",
    "**Rouge access point:**\n",
    "A wirelesss network that can give unauthorized access to secure networks.\n",
    "\n",
    "![image](https://files.catbox.moe/ioa7xo.png)\n",
    "\n",
    "### Popcorn Hack #2\n",
    "How can people access your information?\n",
    "\n",
    "\n",
    "* Routers\n",
    "* Advertisments\n",
    "* Attachements\n",
    "* Pop ups"
   ]
  },
  {
   "cell_type": "markdown",
   "metadata": {},
   "source": [
    "### Homework!\n",
    "\n",
    "Fill out this google form: https://forms.gle/jxVPgKMxEiDhUyMf8"
   ]
  }
 ],
 "metadata": {
  "language_info": {
   "name": "python"
  },
  "orig_nbformat": 4
 },
 "nbformat": 4,
 "nbformat_minor": 2
}
