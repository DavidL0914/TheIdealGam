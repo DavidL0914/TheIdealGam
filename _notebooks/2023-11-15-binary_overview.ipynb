{
 "cells": [
  {
   "cell_type": "markdown",
   "metadata": {},
   "source": [
    "---\n",
    "toc: false\n",
    "layout: post\n",
    "title: Binary Gam(e) Overview\n",
    "description: Overview of components/features we will use in our Binary Gam(e)\n",
    "courses: { compsci: {week: 7} }\n",
    "type: hacks\n",
    "---"
   ]
  },
  {
   "cell_type": "markdown",
   "metadata": {},
   "source": [
    "{% include nav.html %}"
   ]
  },
  {
   "cell_type": "markdown",
   "metadata": {},
   "source": [
    "**Implementing Binary into a Fast-Paced Gam(e)**\n",
    "This project will be a binary learning site, in which we will have multiple gam(e)s to help the user and their friends learn binary together!\n",
    "**Feature 1: Racing Gam(e)**\n",
    "In this game, we will have two players, "
   ]
  }
 ],
 "metadata": {
  "language_info": {
   "name": "python"
  },
  "orig_nbformat": 4
 },
 "nbformat": 4,
 "nbformat_minor": 2
}
