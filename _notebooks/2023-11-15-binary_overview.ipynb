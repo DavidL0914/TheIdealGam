{
 "cells": [
  {
   "cell_type": "markdown",
   "metadata": {},
   "source": [
    "---\n",
    "toc: false\n",
    "layout: post\n",
    "title: Binary Gam(e) Overview\n",
    "description: Overview of components/features we will use in our Binary Gam(e)\n",
    "courses: { compsci: {week: 13} }\n",
    "type: hacks\n",
    "---"
   ]
  },
  {
   "cell_type": "markdown",
   "metadata": {},
   "source": [
    "{% include nav.html %}"
   ]
  },
  {
   "cell_type": "markdown",
   "metadata": {},
   "source": [
    "**Implementing Binary into a Fast-Paced Gam(e)**\n",
    "This project will be a binary learning site, in which we will have multiple gam(e)s to help the user and their friends learn binary together!\n",
    "\n",
    "**We plan to have at least 3 games on this site:** \n",
    "- 1 singleplayer\n",
    "- 2 multiplayer\n",
    "\n",
    "**General Schedule**\n",
    "\n",
    "*starting at trimester 2\n",
    "\n",
    "Week 1 \n",
    "- Finish ideation, get started on coding games\n",
    "\n",
    "Week 2 (Thanksgiving Break)\n",
    "- Have basic code outlines of games, and know how to implement main features\n",
    "- Get started on styling (css, sass)\n",
    "    - Come up with a unique theme/colors that go well together\n",
    "\n",
    "Week 3\n",
    "- Finish up game features\n",
    "- Complete styling with\n",
    "    - Overall theme\n",
    "    - Aesthetically pleasing site\n",
    "- Polish\n",
    "    - Debug code\n",
    "    - Make sure no errors"
   ]
  }
 ],
 "metadata": {
  "language_info": {
   "name": "python"
  },
  "orig_nbformat": 4
 },
 "nbformat": 4,
 "nbformat_minor": 2
}
