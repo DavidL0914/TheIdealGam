{
 "cells": [
  {
   "cell_type": "markdown",
   "metadata": {},
   "source": [
    "---\n",
    "toc: false\n",
    "layout: post\n",
    "hide: true\n",
    "title: Binary Gam(e) | Racing Game\n",
    "description: The Racing Game!\n",
    "courses: { compsci: {week: 7 } }\n",
    "type: hacks\n",
    "---\n"
   ]
  },
  {
   "cell_type": "markdown",
   "metadata": {},
   "source": [
    "{% include nav.html %}\n"
   ]
  },
  {
   "cell_type": "markdown",
   "metadata": {},
   "source": [
    "## In one of our games to help our users learn Binary, we will give the users a:\n",
    "- Starting random integer\n",
    "- A wanted final binary number\n",
    "\n",
    "## The game format:\n",
    "- Two player game, each player gets a car on a racetrack on the screen\n",
    "- The two players take turns moving\n",
    "- The game will give a random integer and put it on the screen each round. The user types in the binary number that matches the integer on the screen. \n",
    "    - If correct, you move forward a space. If wrong, you stay in place. \n",
    "- First one to move forward 10 spaces and cross the finish line wins!\n",
    "\n",
    "## This will:\n",
    "- Challenge the user to be able to match binary with decimal values to train their skills\n",
    "\n",
    "## How will we accomplish this?\n",
    "- The game runs in a loop until the car crosses the finish line.\n",
    "- Inside the loop, a new random decimal number (0 to 255) is generated for the player to match.\n",
    "- The user's binary input is converted to a decimal number, and then checked if it matches the target decimal number.\n",
    "    - If correct, the car moves forward a space. If wrong, it doesn't. \n",
    "\n",
    "## What will we use?\n",
    "- Javascript and HTML (required, no python!!!)\n",
    "- Variables to set the game up (board size and car position)\n",
    "- Random number generator to get the random numbers\n",
    "- Conditional statements to check if user is correct\n",
    "- String to integer conversions to convert binary input to decimal number"
   ]
  },
  {
   "cell_type": "code",
   "execution_count": null,
   "metadata": {
    "vscode": {
     "languageId": "html"
    }
   },
   "outputs": [],
   "source": [
    "<!DOCTYPE html>\n",
    "<html lang=\"en\">\n",
    "\n",
    "<head>\n",
    "  <meta charset=\"UTF-8\">\n",
    "  <meta name=\"viewport\" content=\"width=device-width, initial-scale=1.0\">\n",
    "  <title>Binary Race Game</title>\n",
    "  <script src=\"script.js\"></script>\n",
    "</head>\n",
    "\n",
    "<body>\n",
    "  <!-- You can add HTML content or leave it empty for a simple game -->\n",
    "</body>\n",
    "\n",
    "</html>"
   ]
  },
  {
   "cell_type": "code",
   "execution_count": null,
   "metadata": {
    "vscode": {
     "languageId": "javascript"
    }
   },
   "outputs": [],
   "source": [
    "function playBinaryRaceGame() {\n",
    "    console.log(\"Welcome to the Binary Race Game!\");\n",
    "    console.log(\"Type in binary numbers to match the given decimal number and move your car forward.\");\n",
    "  \n",
    "    const boardSize = 10;\n",
    "    let carPosition = 0;\n",
    "  \n",
    "    while (carPosition < boardSize) {\n",
    "        // Generate a new random decimal number for the user to match\n",
    "        const targetDecimalNumber = Math.floor(Math.random() * 256);\n",
    "  \n",
    "        // Convert the decimal number to binary\n",
    "        const targetBinaryNumber = targetDecimalNumber.toString(2);\n",
    "  \n",
    "        // Get user's guess\n",
    "        const userGuess = prompt(`Your car is at position ${carPosition}. Match this number (in binary): ${targetDecimalNumber}`);\n",
    "  \n",
    "        try {\n",
    "            // Convert the user's binary input to decimal\n",
    "            const guessDecimal = parseInt(userGuess, 2);\n",
    "  \n",
    "            // Check if the guess is correct\n",
    "            if (guessDecimal === targetDecimalNumber) {\n",
    "                console.log(\"Correct! Your car moves forward by 1 space.\");\n",
    "                carPosition += 1;\n",
    "            } else {\n",
    "                console.log(`Incorrect guess. The correct decimal number was ${targetDecimalNumber}.`);\n",
    "            }\n",
    "  \n",
    "        } catch (error) {\n",
    "            console.log(\"Invalid input. Please enter a valid binary number.\");\n",
    "        }\n",
    "    }\n",
    "  \n",
    "    console.log(\"Congratulations! You crossed the finish line and won the game!\");\n",
    "  }\n",
    "  \n",
    "  // Start the game\n",
    "  playBinaryRaceGame();\n",
    "      "
   ]
  },
  {
   "cell_type": "markdown",
   "metadata": {},
   "source": [
    "## Flowchart to demonstrate code's logic and how it runs:\n",
    "![image](https://i.ibb.co/pzhh6B4/flowchart.png)"
   ]
  }
 ],
 "metadata": {
  "kernelspec": {
   "display_name": "Python 3 (ipykernel)",
   "language": "python",
   "name": "python3"
  },
  "language_info": {
   "codemirror_mode": {
    "name": "ipython",
    "version": 3
   },
   "file_extension": ".py",
   "mimetype": "text/x-python",
   "name": "python",
   "nbconvert_exporter": "python",
   "pygments_lexer": "ipython3",
   "version": "3.11.4"
  },
  "orig_nbformat": 4
 },
 "nbformat": 4,
 "nbformat_minor": 2
}
